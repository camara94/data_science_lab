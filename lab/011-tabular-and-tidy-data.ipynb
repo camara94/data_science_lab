{
 "cells": [
  {
   "cell_type": "markdown",
   "id": "36cc5356",
   "metadata": {},
   "source": [
    "## 011 Tabular And Tidy Data"
   ]
  },
  {
   "cell_type": "code",
   "execution_count": 2,
   "id": "1bf72cdb",
   "metadata": {},
   "outputs": [
    {
     "data": {
      "text/html": [
       "\n",
       "        <iframe\n",
       "            width=\"600\"\n",
       "            height=\"300\"\n",
       "            src=\"https://player.vimeo.com/video/656189257?h=3298dbabb7\"\n",
       "            frameborder=\"0\"\n",
       "            allowfullscreen\n",
       "            \n",
       "        ></iframe>\n",
       "        "
      ],
      "text/plain": [
       "<IPython.lib.display.VimeoVideo at 0x1a0ee787040>"
      ]
     },
     "execution_count": 2,
     "metadata": {},
     "output_type": "execute_result"
    }
   ],
   "source": [
    "# WELCOME THE FIRST LESSON OF PROJECT 1!\n",
    "#\n",
    "# If you haven't watched the virtual machine orientation video yet,\n",
    "# 👆 Click the ▶️ button above to get started.\n",
    "\n",
    "from IPython.display import VimeoVideo\n",
    "\n",
    "VimeoVideo(\"656189257\", h=\"3298dbabb7\", width=600)"
   ]
  },
  {
   "cell_type": "markdown",
   "id": "43e4dc05",
   "metadata": {},
   "source": [
    "<font size=\"+3\"><strong>1.1 Organizing Tabular Data in Python</strong></font>"
   ]
  },
  {
   "cell_type": "code",
   "execution_count": 4,
   "id": "f18ac1b6",
   "metadata": {},
   "outputs": [
    {
     "data": {
      "text/html": [
       "\n",
       "        <iframe\n",
       "            width=\"600\"\n",
       "            height=\"300\"\n",
       "            src=\"https://player.vimeo.com/video/645390762?h=578b5a9e19\"\n",
       "            frameborder=\"0\"\n",
       "            allowfullscreen\n",
       "            \n",
       "        ></iframe>\n",
       "        "
      ],
      "text/plain": [
       "<IPython.lib.display.VimeoVideo at 0x1a0ee77c550>"
      ]
     },
     "execution_count": 4,
     "metadata": {},
     "output_type": "execute_result"
    }
   ],
   "source": [
    "VimeoVideo(\"645390762\", h=\"578b5a9e19\", width=600)"
   ]
  },
  {
   "cell_type": "markdown",
   "id": "07b4a187",
   "metadata": {},
   "source": [
    "<div class=\"alert alert-info\" role=\"alert\">\n",
    "    <p><b>Frequent Question:</b> When I try to run this cell ☝️, I get: \n",
    "    <blockquote><code>NameError: name 'VimeoVideo' is not defined</code></blockquote></p>\n",
    "    <p><b>Tip:</b> <code>NameError</code> usually means that you're asking Python to use a tool that you haven't imported yet. So make sure you run the first cell of this notebook, the one that contains <code>from IPython.display import VimeoVideo</code>.</p>\n",
    "</div>"
   ]
  },
  {
   "cell_type": "markdown",
   "id": "251ad4d8",
   "metadata": {},
   "source": [
    "Information can come in many forms, and part of a data scientist's job is making sure that information is organized in a way that's conducive to analysis. Take for example these five houses from the Mexico real estate dataset we'll use in this project:\n",
    "\n",
    "![Five houses showing price, number of rooms, and area in square meters for each](../images/proj-1.001.png)\n",
    "\n",
    "One common way to organize this information is in a **table**, which is a group of **cells** organized into **rows** and **columns**:\n",
    "\n",
    "![Table, organized into rows and columns, with housing information from previous image](../images/proj-1.002.png)\n",
    "\n",
    "When working with this sort of **tabular data**, it's important to organize row and columns following the principles of \"**[tidy data](https://en.wikipedia.org/wiki/Tidy_data)**.\" What does that mean in the case of our dataset?\n",
    "\n",
    "1. Each row corresponds to a single house in our dataset. We'll call each of these houses an **observation**.\n",
    "2. Each column corresponds to a characteristic of each house. We'll call these **features**.\n",
    "3. Each cell contains only one **value**. \n",
    "\n",
    "![Three copies of table from previous image, emphasizing observations as rows and features as columns](../images/proj-1.003.png)\n",
    "\n",
    "So whenever you encounter a new dataset, make sure your data is \"tidy.\" `NOTE: need to add activity here`"
   ]
  },
  {
   "cell_type": "markdown",
   "id": "031b7f61",
   "metadata": {},
   "source": [
    "# Tabular Data and Python Data Structures"
   ]
  },
  {
   "cell_type": "markdown",
   "id": "c4b557d3",
   "metadata": {},
   "source": [
    "## Working with Lists\n",
    "\n",
    "Python comes with several data structures that we can use to organize tabular data. Let's start by putting a single observation in a **list**."
   ]
  },
  {
   "cell_type": "markdown",
   "id": "7df12858",
   "metadata": {},
   "source": [
    "## Working with Lists\n",
    "\n",
    "Python comes with several data structures that we can use to organize tabular data. Let's start by putting a single observation in a **list**."
   ]
  },
  {
   "cell_type": "code",
   "execution_count": 10,
   "id": "36d880bd",
   "metadata": {},
   "outputs": [
    {
     "data": {
      "text/plain": [
       "[115910.26, 128, 4]"
      ]
     },
     "execution_count": 10,
     "metadata": {},
     "output_type": "execute_result"
    }
   ],
   "source": [
    "house_0_list = [115910.26, 128, 4]\n",
    "house_0_list"
   ]
  },
  {
   "cell_type": "code",
   "execution_count": 11,
   "id": "cc7b5102",
   "metadata": {},
   "outputs": [
    {
     "data": {
      "text/html": [
       "\n",
       "        <iframe\n",
       "            width=\"600\"\n",
       "            height=\"300\"\n",
       "            src=\"https://player.vimeo.com/video/645390786?h=da0bb831d1\"\n",
       "            frameborder=\"0\"\n",
       "            allowfullscreen\n",
       "            \n",
       "        ></iframe>\n",
       "        "
      ],
      "text/plain": [
       "<IPython.lib.display.VimeoVideo at 0x1a0ee7da490>"
      ]
     },
     "execution_count": 11,
     "metadata": {},
     "output_type": "execute_result"
    }
   ],
   "source": [
    "VimeoVideo(\"645390786\", h=\"da0bb831d1\", width=600)"
   ]
  },
  {
   "cell_type": "markdown",
   "id": "aa2a7392",
   "metadata": {},
   "source": [
    "**Task 1.1.1:** One metric that people in the real estate industry look at is price per square meter because it allows them to compare houses of different sizes. Can you use the information in this list to calculate the price per square meter for `house_0`?\n",
    "\n",
    "- [What's a list?](../%40textbook/01-python-getting-started.ipynb#Lists)\n",
    "- [Access an item in a list using Python.](../%40textbook/01-python-getting-started.ipynb#Working-with-Lists)\n",
    "- [Perform basic mathematical operations in Python.](../%40textbook/01-python-getting-started.ipynb#Simple-Calculations)"
   ]
  },
  {
   "cell_type": "code",
   "execution_count": 12,
   "id": "5f2f8f1d",
   "metadata": {},
   "outputs": [
    {
     "data": {
      "text/plain": [
       "905.54890625"
      ]
     },
     "execution_count": 12,
     "metadata": {},
     "output_type": "execute_result"
    }
   ],
   "source": [
    "house_0_price_m2 = [115910.26, 128, 4]\n",
    "house_0_price_m2 = house_0_price_m2[0]/house_0_price_m2[1]\n",
    "house_0_price_m2"
   ]
  },
  {
   "cell_type": "code",
   "execution_count": 13,
   "id": "85f60b7d",
   "metadata": {},
   "outputs": [
    {
     "data": {
      "text/html": [
       "\n",
       "        <iframe\n",
       "            width=\"600\"\n",
       "            height=\"300\"\n",
       "            src=\"https://player.vimeo.com/video/645390797?h=86c579a9cb\"\n",
       "            frameborder=\"0\"\n",
       "            allowfullscreen\n",
       "            \n",
       "        ></iframe>\n",
       "        "
      ],
      "text/plain": [
       "<IPython.lib.display.VimeoVideo at 0x1a0ee7da6d0>"
      ]
     },
     "execution_count": 13,
     "metadata": {},
     "output_type": "execute_result"
    }
   ],
   "source": [
    "VimeoVideo(\"645390797\", h=\"86c579a9cb\", width=600)"
   ]
  },
  {
   "cell_type": "markdown",
   "id": "231bed80",
   "metadata": {},
   "source": [
    "**Task 1.1.2:** Next, use the [`append`](https://docs.python.org/3/tutorial/datastructures.html#more-on-lists) method to add the price per square meter to the end of the end of `house_0`.\n",
    "\n",
    "- [Append an item to a list in Python.](../%40textbook/01-python-getting-started.ipynb#Appending-Items)"
   ]
  },
  {
   "cell_type": "markdown",
   "id": "6e31c6ce",
   "metadata": {},
   "source": [
    "Now that you can work with data for a single house, let's think about how to organize the whole dataset. One option would be to create a list for each observation and then put those together in another list. This is called a [**nested list**](http://127.0.0.1:8888/lab/tree/work/ds_curriculum/%40textbook/Python.ipynb#creating-lists)."
   ]
  },
  {
   "cell_type": "code",
   "execution_count": 14,
   "id": "2db6d7f5",
   "metadata": {},
   "outputs": [
    {
     "data": {
      "text/plain": [
       "[[115910.26, 128.0, 4.0],\n",
       " [48718.17, 210.0, 3.0],\n",
       " [28977.56, 58.0, 2.0],\n",
       " [36932.27, 79.0, 3.0],\n",
       " [83903.51, 111.0, 3.0]]"
      ]
     },
     "execution_count": 14,
     "metadata": {},
     "output_type": "execute_result"
    }
   ],
   "source": [
    "houses_nested_list = [\n",
    "    [115910.26, 128.0, 4.0],\n",
    "    [48718.17, 210.0, 3.0],\n",
    "    [28977.56, 58.0, 2.0],\n",
    "    [36932.27, 79.0, 3.0],\n",
    "    [83903.51, 111.0, 3.0],\n",
    "]\n",
    "\n",
    "houses_nested_list"
   ]
  },
  {
   "cell_type": "code",
   "execution_count": 15,
   "id": "20ea7fde",
   "metadata": {},
   "outputs": [],
   "source": [
    "# [list_item.append(list_item[0]/list_item[1])  for list_item in houses_nested_list]\n",
    "# houses_nested_list"
   ]
  },
  {
   "cell_type": "markdown",
   "id": "eeb8a009",
   "metadata": {},
   "source": [
    "Now that we have more observations, it doesn't make sense to calculate the price per square meter for each house one-by-one. Instead, we can automate this repetitive task using a `for` loop."
   ]
  },
  {
   "cell_type": "code",
   "execution_count": 17,
   "id": "f5fb01d7",
   "metadata": {},
   "outputs": [
    {
     "data": {
      "text/html": [
       "\n",
       "        <iframe\n",
       "            width=\"600\"\n",
       "            height=\"300\"\n",
       "            src=\"https://player.vimeo.com/video/645390807?h=4536120cf5\"\n",
       "            frameborder=\"0\"\n",
       "            allowfullscreen\n",
       "            \n",
       "        ></iframe>\n",
       "        "
      ],
      "text/plain": [
       "<IPython.lib.display.VimeoVideo at 0x1a0ee7da8b0>"
      ]
     },
     "execution_count": 17,
     "metadata": {},
     "output_type": "execute_result"
    }
   ],
   "source": [
    "VimeoVideo(\"645390807\", h=\"4536120cf5\", width=600)"
   ]
  },
  {
   "cell_type": "markdown",
   "id": "23e19dba",
   "metadata": {},
   "source": [
    "**Task 1.1.3:** Append the price per square meter to each observation in `houses_nested_list` using a `for` loop.\n",
    "\n",
    "- [What's a for loop?](../%40textbook/01-python-getting-started.ipynb#Python-for-Loops)\n",
    "- [Write a for loop in Python.](../%40textbook/01-python-getting-started.ipynb#Working-with-for-Loops)"
   ]
  },
  {
   "cell_type": "code",
   "execution_count": 18,
   "id": "52f0fd9d",
   "metadata": {},
   "outputs": [
    {
     "data": {
      "text/plain": [
       "[[115910.26, 128.0, 4.0, 905.54890625],\n",
       " [48718.17, 210.0, 3.0, 231.9912857142857],\n",
       " [28977.56, 58.0, 2.0, 499.61310344827587],\n",
       " [36932.27, 79.0, 3.0, 467.4970886075949],\n",
       " [83903.51, 111.0, 3.0, 755.8874774774774]]"
      ]
     },
     "execution_count": 18,
     "metadata": {},
     "output_type": "execute_result"
    }
   ],
   "source": [
    "for house in houses_nested_list:\n",
    "    house_price = house[0] / house[1]\n",
    "    house.append(house_price)\n",
    "houses_nested_list"
   ]
  },
  {
   "cell_type": "markdown",
   "id": "c2df2c3e",
   "metadata": {},
   "source": [
    "## Working with Dictionaries"
   ]
  },
  {
   "cell_type": "markdown",
   "id": "2af37181",
   "metadata": {},
   "source": [
    "Lists are a good way to organize data, but one drawback is that we can only represent values. Why is that a problem? For example, someone looking at `[115910.26, 128.0, 4]` wouldn't know which values corresponded to price, area, etc. A better option might be a [**dictionary**](http://127.0.0.1:8888/lab/tree/work/ds_curriculum/%40textbook/Python.ipynb#whats-a-dictionary), where each value is associated with a key. Here's what `house_0` looks like as a dictionary instead of a list."
   ]
  },
  {
   "cell_type": "code",
   "execution_count": 19,
   "id": "85198a7c",
   "metadata": {},
   "outputs": [
    {
     "data": {
      "text/plain": [
       "{'price_aprox_usd': 115910.26, 'surface_covered_in_m2': 128, 'rooms': 4}"
      ]
     },
     "execution_count": 19,
     "metadata": {},
     "output_type": "execute_result"
    }
   ],
   "source": [
    "house_0_dict = {\n",
    "    \"price_aprox_usd\": 115910.26,\n",
    "    \"surface_covered_in_m2\": 128,\n",
    "    \"rooms\": 4,\n",
    "}\n",
    "\n",
    "house_0_dict"
   ]
  },
  {
   "cell_type": "code",
   "execution_count": 20,
   "id": "d366a618",
   "metadata": {},
   "outputs": [
    {
     "data": {
      "text/html": [
       "\n",
       "        <iframe\n",
       "            width=\"600\"\n",
       "            height=\"300\"\n",
       "            src=\"https://player.vimeo.com/video/645390821?h=884613d46b\"\n",
       "            frameborder=\"0\"\n",
       "            allowfullscreen\n",
       "            \n",
       "        ></iframe>\n",
       "        "
      ],
      "text/plain": [
       "<IPython.lib.display.VimeoVideo at 0x1a0ee7daa90>"
      ]
     },
     "execution_count": 20,
     "metadata": {},
     "output_type": "execute_result"
    }
   ],
   "source": [
    "VimeoVideo(\"645390821\", h=\"884613d46b\", width=600)"
   ]
  },
  {
   "cell_type": "markdown",
   "id": "7d924e27",
   "metadata": {},
   "source": [
    "**Task 1.1.4:** Calculate the price per square meter for `house_0` and add it to the dictionary under the key `\"price_per_m2\"`.\n",
    "\n",
    "- [What's a dictionary?](../%40textbook/01-python-getting-started.ipynb#Python-Dictionaries)\n",
    "- [Access an item in a dictionary in Python.](../%40textbook/01-python-getting-started.ipynb#Working-with-Dictionaries)"
   ]
  },
  {
   "cell_type": "code",
   "execution_count": 21,
   "id": "46b9c3b2",
   "metadata": {},
   "outputs": [
    {
     "data": {
      "text/plain": [
       "{'price_aprox_usd': 115910.26,\n",
       " 'surface_covered_in_m2': 128,\n",
       " 'rooms': 4,\n",
       " 'price_per_m2': 905.54890625}"
      ]
     },
     "execution_count": 21,
     "metadata": {},
     "output_type": "execute_result"
    }
   ],
   "source": [
    "house_0_dict[\"price_per_m2\"] = house_0_dict['price_aprox_usd'] / house_0_dict['surface_covered_in_m2']\n",
    "house_0_dict"
   ]
  },
  {
   "cell_type": "markdown",
   "id": "e6a942ff",
   "metadata": {},
   "source": [
    "If we wanted to combine all our observations together, the best way would be to create a list of dictionaries."
   ]
  },
  {
   "cell_type": "code",
   "execution_count": 22,
   "id": "ede06833",
   "metadata": {},
   "outputs": [
    {
     "data": {
      "text/plain": [
       "[{'price_aprox_usd': 115910.26, 'surface_covered_in_m2': 128, 'rooms': 4},\n",
       " {'price_aprox_usd': 48718.17, 'surface_covered_in_m2': 210, 'rooms': 3},\n",
       " {'price_aprox_usd': 28977.56, 'surface_covered_in_m2': 58, 'rooms': 2},\n",
       " {'price_aprox_usd': 36932.27, 'surface_covered_in_m2': 79, 'rooms': 3},\n",
       " {'price_aprox_usd': 83903.51, 'surface_covered_in_m2': 111, 'rooms': 3}]"
      ]
     },
     "execution_count": 22,
     "metadata": {},
     "output_type": "execute_result"
    }
   ],
   "source": [
    "houses_rowwise = [\n",
    "    {\n",
    "        \"price_aprox_usd\": 115910.26,\n",
    "        \"surface_covered_in_m2\": 128,\n",
    "        \"rooms\": 4,\n",
    "    },\n",
    "    {\n",
    "        \"price_aprox_usd\": 48718.17,\n",
    "        \"surface_covered_in_m2\": 210,\n",
    "        \"rooms\": 3,\n",
    "    },\n",
    "    {\n",
    "        \"price_aprox_usd\": 28977.56,\n",
    "        \"surface_covered_in_m2\": 58,\n",
    "        \"rooms\": 2,\n",
    "    },\n",
    "    {\n",
    "        \"price_aprox_usd\": 36932.27,\n",
    "        \"surface_covered_in_m2\": 79,\n",
    "        \"rooms\": 3,\n",
    "    },\n",
    "    {\n",
    "        \"price_aprox_usd\": 83903.51,\n",
    "        \"surface_covered_in_m2\": 111,\n",
    "        \"rooms\": 3,\n",
    "    },\n",
    "]\n",
    "\n",
    "houses_rowwise"
   ]
  },
  {
   "cell_type": "markdown",
   "id": "801ef110",
   "metadata": {},
   "source": [
    "This way of storing data is so popular, it has its own name: [**JSON**](http://127.0.0.1:8888/lab/tree/work/ds_curriculum/%40textbook/Python.ipynb#JSON). We'll learn more about it later in the course. For now, let's build another for loop, but this time, we'll add a add the price per square meter to each dictionary."
   ]
  },
  {
   "cell_type": "markdown",
   "id": "b74a6ded",
   "metadata": {},
   "source": [
    "**Task 1.1.5:** Using a `for` loop, calculate the price per square meter and store the result under a `\"price_per_m2\"` key for each observation in `houses_rowwise`.\n",
    "\n",
    "- [What's JSON?](../%40textbook/01-python-getting-started.ipynb#JSON)\n",
    "- [Write a for loop in Python.](../%40textbook/01-python-getting-started.ipynb#Working-with-for-Loops)"
   ]
  },
  {
   "cell_type": "code",
   "execution_count": 23,
   "id": "def32a6e",
   "metadata": {},
   "outputs": [
    {
     "data": {
      "text/plain": [
       "[{'price_aprox_usd': 115910.26,\n",
       "  'surface_covered_in_m2': 128,\n",
       "  'rooms': 4,\n",
       "  'price_per_m2': 905.54890625},\n",
       " {'price_aprox_usd': 48718.17,\n",
       "  'surface_covered_in_m2': 210,\n",
       "  'rooms': 3,\n",
       "  'price_per_m2': 231.9912857142857},\n",
       " {'price_aprox_usd': 28977.56,\n",
       "  'surface_covered_in_m2': 58,\n",
       "  'rooms': 2,\n",
       "  'price_per_m2': 499.61310344827587},\n",
       " {'price_aprox_usd': 36932.27,\n",
       "  'surface_covered_in_m2': 79,\n",
       "  'rooms': 3,\n",
       "  'price_per_m2': 467.4970886075949},\n",
       " {'price_aprox_usd': 83903.51,\n",
       "  'surface_covered_in_m2': 111,\n",
       "  'rooms': 3,\n",
       "  'price_per_m2': 755.8874774774774}]"
      ]
     },
     "execution_count": 23,
     "metadata": {},
     "output_type": "execute_result"
    }
   ],
   "source": [
    "for house in houses_rowwise:\n",
    "    house[\"price_per_m2\"]  = house['price_aprox_usd'] / house['surface_covered_in_m2']\n",
    "houses_rowwise"
   ]
  },
  {
   "cell_type": "markdown",
   "id": "00d51ec4",
   "metadata": {},
   "source": [
    "JSON is a great way to organize data, but it does have some downsides. Note that each dictionary represents a single house or, if we think about it as tabular data, a row in our dataset. This means that it's pretty easy to do row-wise calculations (like we did with price per square meter), but column-wise calculations are more complicated. For instance, what if we wanted to know the mean house price for our dataset? First we'd need to collect the price for each house in a list and then calculate mean. "
   ]
  },
  {
   "cell_type": "code",
   "execution_count": 24,
   "id": "e8dffc1e",
   "metadata": {},
   "outputs": [
    {
     "data": {
      "text/html": [
       "\n",
       "        <iframe\n",
       "            width=\"600\"\n",
       "            height=\"300\"\n",
       "            src=\"https://player.vimeo.com/video/645390848?h=889a3cfb33\"\n",
       "            frameborder=\"0\"\n",
       "            allowfullscreen\n",
       "            \n",
       "        ></iframe>\n",
       "        "
      ],
      "text/plain": [
       "<IPython.lib.display.VimeoVideo at 0x1a0ee7dafa0>"
      ]
     },
     "execution_count": 24,
     "metadata": {},
     "output_type": "execute_result"
    }
   ],
   "source": [
    "VimeoVideo(\"645390848\", h=\"889a3cfb33\", width=600)"
   ]
  },
  {
   "cell_type": "markdown",
   "id": "3b1a0357",
   "metadata": {},
   "source": [
    "**Task 1.1.6:** To calculate the mean price for `houses_rowwise` by completing the code below.\n",
    "\n",
    "- [Write a for loop in Python.](../%40textbook/01-python-getting-started.ipynb#Working-with-for-Loops)\n",
    "- [Append an item to a list in Python.](../%40textbook/01-python-getting-started.ipynb#Appending-Items)"
   ]
  },
  {
   "cell_type": "code",
   "execution_count": 26,
   "id": "9b62d33a",
   "metadata": {},
   "outputs": [
    {
     "data": {
      "text/plain": [
       "62888.35399999999"
      ]
     },
     "execution_count": 26,
     "metadata": {},
     "output_type": "execute_result"
    }
   ],
   "source": [
    "house_prices = []\n",
    "for house in houses_rowwise:\n",
    "    house_prices.append(house[\"price_aprox_usd\"])\n",
    "mean_house_price = sum(house_prices) / len(house_prices)\n",
    "\n",
    "mean_house_price"
   ]
  },
  {
   "cell_type": "markdown",
   "id": "261b2f7d",
   "metadata": {},
   "source": [
    "One way to make this sort of calculation easier is to organize our data by features instead of observations. We'll still use dictionaries and lists, but we'll implement them a slightly differently."
   ]
  },
  {
   "cell_type": "code",
   "execution_count": 27,
   "id": "c6b72e00",
   "metadata": {},
   "outputs": [
    {
     "data": {
      "text/plain": [
       "{'price_aprox_usd': [115910.26, 48718.17, 28977.56, 36932.27, 83903.51],\n",
       " 'surface_covered_in_m2': [128.0, 210.0, 58.0, 79.0, 111.0],\n",
       " 'rooms': [4.0, 3.0, 2.0, 3.0, 3.0]}"
      ]
     },
     "execution_count": 27,
     "metadata": {},
     "output_type": "execute_result"
    }
   ],
   "source": [
    "houses_columnwise = {\n",
    "    \"price_aprox_usd\": [115910.26, 48718.17, 28977.56, 36932.27, 83903.51],\n",
    "    \"surface_covered_in_m2\": [128.0, 210.0, 58.0, 79.0, 111.0],\n",
    "    \"rooms\": [4.0, 3.0, 2.0, 3.0, 3.0],\n",
    "}\n",
    "\n",
    "houses_columnwise"
   ]
  },
  {
   "cell_type": "code",
   "execution_count": 28,
   "id": "29b5dc44",
   "metadata": {},
   "outputs": [
    {
     "data": {
      "text/html": [
       "\n",
       "        <iframe\n",
       "            width=\"600\"\n",
       "            height=\"300\"\n",
       "            src=\"https://player.vimeo.com/video/645390869?h=ef4d49bf66\"\n",
       "            frameborder=\"0\"\n",
       "            allowfullscreen\n",
       "            \n",
       "        ></iframe>\n",
       "        "
      ],
      "text/plain": [
       "<IPython.lib.display.VimeoVideo at 0x1a0ee7dad00>"
      ]
     },
     "execution_count": 28,
     "metadata": {},
     "output_type": "execute_result"
    }
   ],
   "source": [
    "VimeoVideo(\"645390869\", h=\"ef4d49bf66\", width=600)"
   ]
  },
  {
   "cell_type": "markdown",
   "id": "4034a7fa",
   "metadata": {},
   "source": [
    "**Task 1.1.7:** Calculate the mean house price in `houses_columnwise`\n",
    "\n",
    "- [Perform common aggregation tasks on a list in Python.](../%40textbook/01-python-getting-started.ipynb#Aggregating-Items)"
   ]
  },
  {
   "cell_type": "code",
   "execution_count": 29,
   "id": "d6c6529e",
   "metadata": {},
   "outputs": [
    {
     "data": {
      "text/plain": [
       "62888.35399999999"
      ]
     },
     "execution_count": 29,
     "metadata": {},
     "output_type": "execute_result"
    }
   ],
   "source": [
    "mean_house_price = sum(houses_columnwise['price_aprox_usd']) / len(houses_columnwise['price_aprox_usd'])\n",
    "\n",
    "mean_house_price"
   ]
  },
  {
   "cell_type": "markdown",
   "id": "c9368d7f",
   "metadata": {},
   "source": [
    "Of course, when we organize our data according to columns / features, row-wise operations become more difficult. "
   ]
  },
  {
   "cell_type": "code",
   "execution_count": 30,
   "id": "4764e215",
   "metadata": {},
   "outputs": [
    {
     "data": {
      "text/html": [
       "\n",
       "        <iframe\n",
       "            width=\"600\"\n",
       "            height=\"300\"\n",
       "            src=\"https://player.vimeo.com/video/645396267?h=66eda35f00\"\n",
       "            frameborder=\"0\"\n",
       "            allowfullscreen\n",
       "            \n",
       "        ></iframe>\n",
       "        "
      ],
      "text/plain": [
       "<IPython.lib.display.VimeoVideo at 0x1a0ee7da0d0>"
      ]
     },
     "execution_count": 30,
     "metadata": {},
     "output_type": "execute_result"
    }
   ],
   "source": [
    "VimeoVideo(\"645396267\", h=\"66eda35f00\", width=600)"
   ]
  },
  {
   "cell_type": "markdown",
   "id": "eb59db4d",
   "metadata": {},
   "source": [
    "**Task 1.1.8:** Create a `\"price_per_m2\"` column in `houses_columnwise`?\n",
    "\n",
    "- [Add a a key-value pair to a dictionary in Python.](../%40textbook/01-python-getting-started.ipynb#Creating-Dictionaries) \n",
    "- [Zip two lists together in Python.](../%40textbook/01-python-getting-started.ipynb#Zipping-Items)\n",
    "- [Write a for loop in Python.](../%40textbook/01-python-getting-started.ipynb#Working-with-for-Loops)"
   ]
  },
  {
   "cell_type": "code",
   "execution_count": 32,
   "id": "860e147c",
   "metadata": {},
   "outputs": [
    {
     "data": {
      "text/plain": [
       "{'price_aprox_usd': [115910.26, 48718.17, 28977.56, 36932.27, 83903.51],\n",
       " 'surface_covered_in_m2': [128.0, 210.0, 58.0, 79.0, 111.0],\n",
       " 'rooms': [4.0, 3.0, 2.0, 3.0, 3.0],\n",
       " 'price_per_m2': [905.54890625,\n",
       "  231.9912857142857,\n",
       "  499.61310344827587,\n",
       "  467.4970886075949,\n",
       "  755.8874774774774]}"
      ]
     },
     "execution_count": 32,
     "metadata": {},
     "output_type": "execute_result"
    }
   ],
   "source": [
    "houses_columnwise['price_per_m2'] = []\n",
    "for price, m2 in zip(houses_columnwise['price_aprox_usd'], houses_columnwise['surface_covered_in_m2']):\n",
    "    houses_columnwise['price_per_m2'].append(price/m2)\n",
    "houses_columnwise"
   ]
  },
  {
   "cell_type": "markdown",
   "id": "9a713141",
   "metadata": {},
   "source": [
    "# Tabular Data and pandas DataFrames"
   ]
  },
  {
   "cell_type": "code",
   "execution_count": 33,
   "id": "072ce401",
   "metadata": {},
   "outputs": [
    {
     "data": {
      "text/html": [
       "\n",
       "        <iframe\n",
       "            width=\"600\"\n",
       "            height=\"300\"\n",
       "            src=\"https://player.vimeo.com/video/645396345?h=ba25c25741\"\n",
       "            frameborder=\"0\"\n",
       "            allowfullscreen\n",
       "            \n",
       "        ></iframe>\n",
       "        "
      ],
      "text/plain": [
       "<IPython.lib.display.VimeoVideo at 0x1a0ee7daf40>"
      ]
     },
     "execution_count": 33,
     "metadata": {},
     "output_type": "execute_result"
    }
   ],
   "source": [
    "VimeoVideo(\"645396345\", h=\"ba25c25741\", width=600)"
   ]
  },
  {
   "cell_type": "markdown",
   "id": "810e074f",
   "metadata": {},
   "source": [
    "While you've shown that you can wrangle data using lists and dictionaries, it's not as intuitive as working with, say, a spreadsheet. Fortunately, there are lots of libraries for Python that make it an even better tool for tabular data — way better than spreadsheet applications like Microsoft Excel or Google Sheets! One of the best known data science libraries is **pandas**, which allows you to organize data into **DataFrames**.\n",
    "\n",
    "Let's import pandas and then create a DataFrame from `houses_columnwise`. "
   ]
  },
  {
   "cell_type": "code",
   "execution_count": 34,
   "id": "dfc0d38a",
   "metadata": {},
   "outputs": [
    {
     "data": {
      "text/html": [
       "<div>\n",
       "<style scoped>\n",
       "    .dataframe tbody tr th:only-of-type {\n",
       "        vertical-align: middle;\n",
       "    }\n",
       "\n",
       "    .dataframe tbody tr th {\n",
       "        vertical-align: top;\n",
       "    }\n",
       "\n",
       "    .dataframe thead th {\n",
       "        text-align: right;\n",
       "    }\n",
       "</style>\n",
       "<table border=\"1\" class=\"dataframe\">\n",
       "  <thead>\n",
       "    <tr style=\"text-align: right;\">\n",
       "      <th></th>\n",
       "      <th>price_aprox_usd</th>\n",
       "      <th>surface_covered_in_m2</th>\n",
       "      <th>rooms</th>\n",
       "    </tr>\n",
       "  </thead>\n",
       "  <tbody>\n",
       "    <tr>\n",
       "      <th>0</th>\n",
       "      <td>115910.26</td>\n",
       "      <td>128.0</td>\n",
       "      <td>4.0</td>\n",
       "    </tr>\n",
       "    <tr>\n",
       "      <th>1</th>\n",
       "      <td>48718.17</td>\n",
       "      <td>210.0</td>\n",
       "      <td>3.0</td>\n",
       "    </tr>\n",
       "    <tr>\n",
       "      <th>2</th>\n",
       "      <td>28977.56</td>\n",
       "      <td>58.0</td>\n",
       "      <td>2.0</td>\n",
       "    </tr>\n",
       "    <tr>\n",
       "      <th>3</th>\n",
       "      <td>36932.27</td>\n",
       "      <td>79.0</td>\n",
       "      <td>3.0</td>\n",
       "    </tr>\n",
       "    <tr>\n",
       "      <th>4</th>\n",
       "      <td>83903.51</td>\n",
       "      <td>111.0</td>\n",
       "      <td>3.0</td>\n",
       "    </tr>\n",
       "  </tbody>\n",
       "</table>\n",
       "</div>"
      ],
      "text/plain": [
       "   price_aprox_usd  surface_covered_in_m2  rooms\n",
       "0        115910.26                  128.0    4.0\n",
       "1         48718.17                  210.0    3.0\n",
       "2         28977.56                   58.0    2.0\n",
       "3         36932.27                   79.0    3.0\n",
       "4         83903.51                  111.0    3.0"
      ]
     },
     "execution_count": 34,
     "metadata": {},
     "output_type": "execute_result"
    }
   ],
   "source": [
    "import pandas as pd\n",
    "\n",
    "data = {\n",
    "    \"price_aprox_usd\": [115910.26, 48718.17, 28977.56, 36932.27, 83903.51],\n",
    "    \"surface_covered_in_m2\": [128.0, 210.0, 58.0, 79.0, 111.0],\n",
    "    \"rooms\": [4.0, 3.0, 2.0, 3.0, 3.0],\n",
    "}\n",
    "\n",
    "df_houses = pd.DataFrame(data)\n",
    "\n",
    "df_houses"
   ]
  },
  {
   "cell_type": "markdown",
   "id": "83662146",
   "metadata": {},
   "source": [
    "Excellent work! You've mastered the concept of **tabular data**, understand the principles behind **tidy data**, and used **lists** and **dictionaries** to organize and augment our Mexico housing dataset. Next, we'll use these skills on the entire dataset — with over 150,000 observations — to better understand the real estate market in the country."
   ]
  },
  {
   "cell_type": "code",
   "execution_count": null,
   "id": "57f159da",
   "metadata": {},
   "outputs": [],
   "source": []
  }
 ],
 "metadata": {
  "kernelspec": {
   "display_name": "Python 3 (ipykernel)",
   "language": "python",
   "name": "python3"
  },
  "language_info": {
   "codemirror_mode": {
    "name": "ipython",
    "version": 3
   },
   "file_extension": ".py",
   "mimetype": "text/x-python",
   "name": "python",
   "nbconvert_exporter": "python",
   "pygments_lexer": "ipython3",
   "version": "3.9.12"
  }
 },
 "nbformat": 4,
 "nbformat_minor": 5
}
