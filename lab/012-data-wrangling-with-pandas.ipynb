{
 "cells": [
  {
   "cell_type": "markdown",
   "id": "76845e28",
   "metadata": {},
   "source": [
    "<font size=\"+3\"><strong>Preparing Mexico Data</strong></font>"
   ]
  },
  {
   "cell_type": "code",
   "execution_count": null,
   "id": "75fb1d8c",
   "metadata": {},
   "outputs": [],
   "source": [
    "!pip uninstall numpy  \n",
    "!pip install numpy"
   ]
  },
  {
   "cell_type": "code",
   "execution_count": null,
   "id": "d2f033c1",
   "metadata": {},
   "outputs": [],
   "source": [
    "import pandas as pd"
   ]
  },
  {
   "cell_type": "code",
   "execution_count": null,
   "id": "74b19066",
   "metadata": {},
   "outputs": [],
   "source": [
    "# import pandas as pd\n",
    "from IPython.display import VimeoVideo"
   ]
  },
  {
   "cell_type": "markdown",
   "id": "a76682b3",
   "metadata": {},
   "source": [
    "# Import"
   ]
  },
  {
   "cell_type": "markdown",
   "id": "642a2c2c",
   "metadata": {},
   "source": [
    "The first part of any data science project is preparing your data, which means making sure its in the right place and format for you to conduct your analysis. The first step of any data preparation is importing your raw data and cleaning it. \n",
    "\n",
    "If you look in the `small-data` directory on your machine, you'll see that the data for this project comes in three CSV files: `mexico-real-estate-1.csv`, `mexico-real-estate-2.csv`, and `mexico-real-estate-3.csv`."
   ]
  },
  {
   "cell_type": "code",
   "execution_count": null,
   "id": "4da56d70",
   "metadata": {},
   "outputs": [],
   "source": [
    "VimeoVideo(\"656321516\", h=\"e85e3bf248\", width=600)"
   ]
  },
  {
   "cell_type": "markdown",
   "id": "69c4578f",
   "metadata": {},
   "source": [
    "**Task 1.2.1:** Read these three files into three separate DataFrames named `df1`, `df2`, and `df3`, respectively.\n",
    "\n",
    "- [What's a DataFrame?](../%40textbook/03-pandas-getting-started.ipynb#Pandas)\n",
    "- [What's a CSV file?](../%40textbook/03-pandas-getting-started.ipynb#CSV-Files)\n",
    "- [Read a CSV file into a DataFrame using pandas.](../%40textbook/03-pandas-getting-started.ipynb#Working-with-DataFrames)"
   ]
  },
  {
   "cell_type": "code",
   "execution_count": null,
   "id": "dd9638f5",
   "metadata": {},
   "outputs": [],
   "source": [
    "df1 = pd.read_csv(\"../data/mixico-real-estimate-1.csv\")\n",
    "df2 = pd.read_csv(\"../data/mixico-real-estimate-2.csv\")\n",
    "df3 = pd.read_csv(\"../data/mixico-real-estimate-3.csv\")"
   ]
  },
  {
   "cell_type": "markdown",
   "id": "fa499dfa",
   "metadata": {},
   "source": [
    "## Clean `df1`"
   ]
  },
  {
   "cell_type": "markdown",
   "id": "2f73fe64",
   "metadata": {},
   "source": [
    "Now that you have your three DataFrames, it's time to inspect them to see if they need any cleaning. Let's look at them one-by-one."
   ]
  },
  {
   "cell_type": "code",
   "execution_count": null,
   "id": "f3972186",
   "metadata": {},
   "outputs": [],
   "source": [
    "VimeoVideo(\"656320563\", h=\"a6841fed28\", width=600)"
   ]
  },
  {
   "cell_type": "markdown",
   "id": "60ec65f0",
   "metadata": {},
   "source": [
    "**Task 1.2.2:** Inspect `df1` by looking at its [`shape`](https://pandas.pydata.org/docs/reference/api/pandas.DataFrame.shape.html) attribute. Then use the [`info`](https://pandas.pydata.org/docs/reference/api/pandas.DataFrame.info.htm) method to see the data types and number of missing values for each column. Finally, use the [`head`](https://pandas.pydata.org/docs/reference/api/pandas.DataFrame.head.html) method to determine to look at the first five rows of your dataset.\n",
    "\n",
    "- [Inspect a DataFrame using the `shape`, `info`, and `head` in pandas.](../%40textbook/03-pandas-getting-started.ipynb#Inspecting-DataFrames)"
   ]
  },
  {
   "cell_type": "code",
   "execution_count": null,
   "id": "69045011",
   "metadata": {},
   "outputs": [],
   "source": [
    "df1.shape"
   ]
  },
  {
   "cell_type": "code",
   "execution_count": null,
   "id": "7ceb6ddc",
   "metadata": {},
   "outputs": [],
   "source": [
    "df1.info()"
   ]
  },
  {
   "cell_type": "code",
   "execution_count": null,
   "id": "45a106ca",
   "metadata": {},
   "outputs": [],
   "source": [
    "df1.head()"
   ]
  },
  {
   "cell_type": "code",
   "execution_count": null,
   "id": "f7e93ec5",
   "metadata": {},
   "outputs": [],
   "source": []
  },
  {
   "cell_type": "code",
   "execution_count": null,
   "id": "055fe8b5",
   "metadata": {},
   "outputs": [],
   "source": []
  }
 ],
 "metadata": {
  "kernelspec": {
   "display_name": "Python 3 (ipykernel)",
   "language": "python",
   "name": "python3"
  },
  "language_info": {
   "codemirror_mode": {
    "name": "ipython",
    "version": 3
   },
   "file_extension": ".py",
   "mimetype": "text/x-python",
   "name": "python",
   "nbconvert_exporter": "python",
   "pygments_lexer": "ipython3",
   "version": "3.9.12"
  }
 },
 "nbformat": 4,
 "nbformat_minor": 5
}
