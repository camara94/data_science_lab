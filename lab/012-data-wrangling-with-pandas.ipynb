{
 "cells": [
  {
   "cell_type": "markdown",
   "id": "76845e28",
   "metadata": {},
   "source": [
    "<font size=\"+3\"><strong>Preparing Mexico Data</strong></font>"
   ]
  },
  {
   "cell_type": "code",
   "execution_count": 3,
   "id": "a333474e",
   "metadata": {},
   "outputs": [],
   "source": [
    "# import pandas as pd\n",
    "from IPython.display import VimeoVideo"
   ]
  },
  {
   "cell_type": "markdown",
   "id": "e71cfdfb",
   "metadata": {},
   "source": [
    "# Import"
   ]
  },
  {
   "cell_type": "markdown",
   "id": "d06eaa44",
   "metadata": {},
   "source": [
    "The first part of any data science project is preparing your data, which means making sure its in the right place and format for you to conduct your analysis. The first step of any data preparation is importing your raw data and cleaning it. \n",
    "\n",
    "If you look in the `small-data` directory on your machine, you'll see that the data for this project comes in three CSV files: `mexico-real-estate-1.csv`, `mexico-real-estate-2.csv`, and `mexico-real-estate-3.csv`."
   ]
  },
  {
   "cell_type": "code",
   "execution_count": 4,
   "id": "0b47ec8b",
   "metadata": {},
   "outputs": [
    {
     "data": {
      "text/html": [
       "\n",
       "        <iframe\n",
       "            width=\"600\"\n",
       "            height=\"300\"\n",
       "            src=\"https://player.vimeo.com/video/656321516?h=e85e3bf248\"\n",
       "            frameborder=\"0\"\n",
       "            allowfullscreen\n",
       "            \n",
       "        ></iframe>\n",
       "        "
      ],
      "text/plain": [
       "<IPython.lib.display.VimeoVideo at 0x1c33ec52580>"
      ]
     },
     "execution_count": 4,
     "metadata": {},
     "output_type": "execute_result"
    }
   ],
   "source": [
    "VimeoVideo(\"656321516\", h=\"e85e3bf248\", width=600)"
   ]
  },
  {
   "cell_type": "markdown",
   "id": "ef75c654",
   "metadata": {},
   "source": [
    "**Task 1.2.1:** Read these three files into three separate DataFrames named `df1`, `df2`, and `df3`, respectively.\n",
    "\n",
    "- [What's a DataFrame?](../%40textbook/03-pandas-getting-started.ipynb#Pandas)\n",
    "- [What's a CSV file?](../%40textbook/03-pandas-getting-started.ipynb#CSV-Files)\n",
    "- [Read a CSV file into a DataFrame using pandas.](../%40textbook/03-pandas-getting-started.ipynb#Working-with-DataFrames)"
   ]
  },
  {
   "cell_type": "code",
   "execution_count": null,
   "id": "a403d9af",
   "metadata": {},
   "outputs": [],
   "source": [
    "df1 = pd.read_csv(\"data/mexico-real-estate-1.csv\")\n",
    "df2 = pd.read_csv(\"data/mexico-real-estate-2.csv\")\n",
    "df3 = pd.read_csv(\"data/mexico-real-estate-3.csv\")"
   ]
  }
 ],
 "metadata": {
  "kernelspec": {
   "display_name": "Python 3 (ipykernel)",
   "language": "python",
   "name": "python3"
  },
  "language_info": {
   "codemirror_mode": {
    "name": "ipython",
    "version": 3
   },
   "file_extension": ".py",
   "mimetype": "text/x-python",
   "name": "python",
   "nbconvert_exporter": "python",
   "pygments_lexer": "ipython3",
   "version": "3.9.12"
  }
 },
 "nbformat": 4,
 "nbformat_minor": 5
}
