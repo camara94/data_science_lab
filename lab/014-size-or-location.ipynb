{
 "cells": [
  {
   "cell_type": "markdown",
   "id": "b1bb4558",
   "metadata": {},
   "source": [
    "<font size=\"+3\"><strong>Location or Size: What Influences House Prices in Mexico?</strong></font>"
   ]
  },
  {
   "cell_type": "code",
   "execution_count": 1,
   "id": "b4d8b920",
   "metadata": {},
   "outputs": [],
   "source": [
    "import matplotlib.pyplot as plt\n",
    "import pandas as pd\n",
    "from IPython.display import VimeoVideo"
   ]
  },
  {
   "cell_type": "markdown",
   "id": "854c2577",
   "metadata": {},
   "source": [
    "You've wrangled the data, you've gained an understanding of its basic characteristics in your EDA, and now it's time to ask some research questions. "
   ]
  },
  {
   "cell_type": "code",
   "execution_count": null,
   "id": "fa98380c",
   "metadata": {},
   "outputs": [],
   "source": []
  }
 ],
 "metadata": {
  "kernelspec": {
   "display_name": "Python 3 (ipykernel)",
   "language": "python",
   "name": "python3"
  },
  "language_info": {
   "codemirror_mode": {
    "name": "ipython",
    "version": 3
   },
   "file_extension": ".py",
   "mimetype": "text/x-python",
   "name": "python",
   "nbconvert_exporter": "python",
   "pygments_lexer": "ipython3",
   "version": "3.9.12"
  }
 },
 "nbformat": 4,
 "nbformat_minor": 5
}
