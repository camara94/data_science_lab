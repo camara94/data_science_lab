{
 "cells": [
  {
   "cell_type": "markdown",
   "id": "152e7559",
   "metadata": {},
   "source": [
    "<font size=\"+3\"><strong>Location or Size: What Influences House Prices in Mexico?</strong></font>"
   ]
  },
  {
   "cell_type": "code",
   "execution_count": 1,
   "id": "c9bddb5a",
   "metadata": {},
   "outputs": [],
   "source": [
    "import matplotlib.pyplot as plt\n",
    "import pandas as pd\n",
    "from IPython.display import VimeoVideo"
   ]
  },
  {
   "cell_type": "markdown",
   "id": "b0dcd7dd",
   "metadata": {},
   "source": [
    "You've wrangled the data, you've gained an understanding of its basic characteristics in your EDA, and now it's time to ask some research questions. "
   ]
  },
  {
   "cell_type": "markdown",
   "id": "66cdafdf",
   "metadata": {},
   "source": [
    "# Import Data"
   ]
  },
  {
   "cell_type": "markdown",
   "id": "1ac480ae",
   "metadata": {},
   "source": [
    "**Task 1.4.1:** Read the CSV file that you created in the last notebook (`\"../small-data/mexico-real-estate-clean.csv\"`) into a DataFrame named `df`. Be sure to check that all your columns are the correct data type before you go to the next task.\n",
    "\n",
    "- [What's a DataFrame?](../%40textbook/03-pandas-getting-started.ipynb#Working-with-DataFrames)\n",
    "- [What's a CSV file?](../%40textbook/03-pandas-getting-started.ipynb#CSV-Files)\n",
    "- [Read a CSV file into a DataFrame using pandas.](../%40textbook/03-pandas-getting-started.ipynb#Working-with-DataFrames)"
   ]
  },
  {
   "cell_type": "code",
   "execution_count": 3,
   "id": "4d7a84e8",
   "metadata": {},
   "outputs": [],
   "source": [
    "df = pd.read_csv(\"../data/mexico-real-estate-clean.csv\")"
   ]
  },
  {
   "cell_type": "markdown",
   "id": "e371c673",
   "metadata": {},
   "source": [
    "# Research Question 1"
   ]
  },
  {
   "cell_type": "markdown",
   "id": "9b0ddd70",
   "metadata": {},
   "source": [
    "**Which state has the most expensive real estate market?**"
   ]
  },
  {
   "cell_type": "markdown",
   "id": "b8adba41",
   "metadata": {},
   "source": [
    "Do housing prices vary by state? If so, which are the most expensive states for purchasing a home? During our exploratory data analysis, we used descriptive statistics like mean and median to get an idea of the \"typical\" house price in Mexico. Now, we need to break that calculation down by state and visualize the results. \n",
    "\n",
    "We know in which state each house is located thanks to the `\"state\"` column. The next step is to divide our dataset into groups (one per state) and calculate the mean house price for each group. "
   ]
  },
  {
   "cell_type": "code",
   "execution_count": 4,
   "id": "28b8c94f",
   "metadata": {},
   "outputs": [
    {
     "data": {
      "text/html": [
       "\n",
       "        <iframe\n",
       "            width=\"600\"\n",
       "            height=\"300\"\n",
       "            src=\"https://player.vimeo.com/video/656378731?h=8daa35d1e8\"\n",
       "            frameborder=\"0\"\n",
       "            allowfullscreen\n",
       "            \n",
       "        ></iframe>\n",
       "        "
      ],
      "text/plain": [
       "<IPython.lib.display.VimeoVideo at 0x1e3c1be6400>"
      ]
     },
     "execution_count": 4,
     "metadata": {},
     "output_type": "execute_result"
    }
   ],
   "source": [
    "VimeoVideo(\"656378731\", h=\"8daa35d1e8\", width=600)"
   ]
  },
  {
   "cell_type": "markdown",
   "id": "76ea016f",
   "metadata": {},
   "source": [
    "**Task 1.4.2:** Use the [`groupby`](https://pandas.pydata.org/pandas-docs/stable/reference/api/pandas.DataFrame.groupby.html) method to create a Series named `mean_price_by_state`, where the index contains each state in the dataset and the values correspond to the mean house price for that state. Make sure your Series is sorted from highest to lowest mean price. \n",
    "\n",
    "- [What's a Series?](../%40textbook/05-pandas-summary-statistics.ipynb#Series)\n",
    "- [Aggregate data using the `groupby` method in pandas.](../%40textbook/04-pandas-advanced.ipynb#Series-and-Groupby)"
   ]
  },
  {
   "cell_type": "code",
   "execution_count": 5,
   "id": "973d05c7",
   "metadata": {},
   "outputs": [
    {
     "data": {
      "text/plain": [
       "state\n",
       "Querétaro                          132542.931477\n",
       "Nuevo León                         130560.765932\n",
       "Guanajuato                         128933.559000\n",
       "Jalisco                            123683.233784\n",
       "Quintana Roo                       123481.853913\n",
       "Guerrero                           123105.097407\n",
       "Morelos                            122963.815179\n",
       "Distrito Federal                   122923.076038\n",
       "Puebla                             122794.490000\n",
       "Campeche                           121734.633333\n",
       "Estado de México                   121306.963016\n",
       "Baja California Sur                116051.237778\n",
       "Sonora                             114788.850000\n",
       "Yucatán                            108759.922143\n",
       "Chiapas                            108239.040714\n",
       "Hidalgo                            106915.692000\n",
       "Aguascalientes                     105555.603333\n",
       "Chihuahua                          103390.629167\n",
       "San Luis Potosí                     96403.794737\n",
       "Veracruz de Ignacio de la Llave     95852.838537\n",
       "Tabasco                             92421.624667\n",
       "Tamaulipas                          90745.504286\n",
       "Sinaloa                             88358.845789\n",
       "Nayarit                             78838.707500\n",
       "Zacatecas                           76395.400000\n",
       "Colima                              66443.835000\n",
       "Baja California                     62037.240667\n",
       "Oaxaca                              59681.585000\n",
       "Durango                             57168.246667\n",
       "Tlaxcala                            51983.990000\n",
       "Name: price_usd, dtype: float64"
      ]
     },
     "execution_count": 5,
     "metadata": {},
     "output_type": "execute_result"
    }
   ],
   "source": [
    "mean_price_by_state = df.groupby(\"state\")[\"price_usd\"].mean().sort_values(ascending=False)\n",
    "mean_price_by_state"
   ]
  },
  {
   "cell_type": "code",
   "execution_count": 6,
   "id": "323f14c4",
   "metadata": {},
   "outputs": [
    {
     "data": {
      "text/html": [
       "\n",
       "        <iframe\n",
       "            width=\"600\"\n",
       "            height=\"300\"\n",
       "            src=\"https://player.vimeo.com/video/656378435?h=b3765f3339\"\n",
       "            frameborder=\"0\"\n",
       "            allowfullscreen\n",
       "            \n",
       "        ></iframe>\n",
       "        "
      ],
      "text/plain": [
       "<IPython.lib.display.VimeoVideo at 0x1e3c1be6760>"
      ]
     },
     "execution_count": 6,
     "metadata": {},
     "output_type": "execute_result"
    }
   ],
   "source": [
    "VimeoVideo(\"656378435\", h=\"b3765f3339\", width=600)"
   ]
  },
  {
   "cell_type": "markdown",
   "id": "cfeb2c67",
   "metadata": {},
   "source": [
    "**Task 1.4.3:** Use `mean_price_by_state` to create a bar chart of your results. Make sure the states are sorted from the highest to lowest mean, that you label the x-axis as `\"State\"` and the y-axis as `\"Mean Price [USD]\"`, and give the chart the title `\"Mean House Price by State\"`.\n",
    "\n",
    "- [Create a bar chart using pandas.](../%40textbook/06-visualization-matplotlib.ipynb#Bar-Charts) "
   ]
  },
  {
   "cell_type": "code",
   "execution_count": 7,
   "id": "dfb30fba",
   "metadata": {},
   "outputs": [
    {
     "data": {
      "image/png": "[encoded data removed]",
      "text/plain": [
       "<Figure size 432x288 with 1 Axes>"
      ]
     },
     "metadata": {
      "needs_background": "light"
     },
     "output_type": "display_data"
    }
   ],
   "source": [
    "mean_price_by_state.plot(\n",
    "    kind=\"bar\",\n",
    "    xlabel=\"State\",\n",
    "    ylabel=\"Mean Price [USD]\",\n",
    "    title=\"Mean House Price by State\"\n",
    ");"
   ]
  },
  {
   "cell_type": "markdown",
   "id": "042ee3cb",
   "metadata": {},
   "source": [
    "It seems odd that Querétaro would be the most expensive real estate market in Mexico when, [according to recent GDP numbers](https://en.wikipedia.org/wiki/List_of_Mexican_states_by_GDP), it's not in the top 10 state economies. With all the variations in house sizes across states, a better metric to look at would be price per m<sup>2</sup>. In order to do that, we need to create a new column."
   ]
  },
  {
   "cell_type": "code",
   "execution_count": 8,
   "id": "d08916b3",
   "metadata": {},
   "outputs": [
    {
     "data": {
      "text/html": [
       "\n",
       "        <iframe\n",
       "            width=\"600\"\n",
       "            height=\"300\"\n",
       "            src=\"https://player.vimeo.com/video/656378342?h=2f4da7f7b4\"\n",
       "            frameborder=\"0\"\n",
       "            allowfullscreen\n",
       "            \n",
       "        ></iframe>\n",
       "        "
      ],
      "text/plain": [
       "<IPython.lib.display.VimeoVideo at 0x1e3c23fc2e0>"
      ]
     },
     "execution_count": 8,
     "metadata": {},
     "output_type": "execute_result"
    }
   ],
   "source": [
    "VimeoVideo(\"656378342\", h=\"2f4da7f7b4\", width=600)"
   ]
  },
  {
   "cell_type": "markdown",
   "id": "049a61f2",
   "metadata": {},
   "source": [
    "**Task 1.4.4:** Create a new column in `df` called `\"price_per_m2\"`. This should be the price for each house divided by it's size. \n",
    "\n",
    "- [Create new columns derived from existing columns in a DataFrame using pandas.](../%40textbook/03-pandas-getting-started.ipynb#Working-with-Columns)"
   ]
  },
  {
   "cell_type": "code",
   "execution_count": 9,
   "id": "ed0cfc99",
   "metadata": {},
   "outputs": [],
   "source": [
    "df[\"price_per_m2\"] = (df[\"price_usd\"] / df[\"area_m2\"]).round(2)"
   ]
  },
  {
   "cell_type": "code",
   "execution_count": 11,
   "id": "96c103ea",
   "metadata": {},
   "outputs": [
    {
     "data": {
      "text/html": [
       "<div>\n",
       "<style scoped>\n",
       "    .dataframe tbody tr th:only-of-type {\n",
       "        vertical-align: middle;\n",
       "    }\n",
       "\n",
       "    .dataframe tbody tr th {\n",
       "        vertical-align: top;\n",
       "    }\n",
       "\n",
       "    .dataframe thead th {\n",
       "        text-align: right;\n",
       "    }\n",
       "</style>\n",
       "<table border=\"1\" class=\"dataframe\">\n",
       "  <thead>\n",
       "    <tr style=\"text-align: right;\">\n",
       "      <th></th>\n",
       "      <th>property_type</th>\n",
       "      <th>state</th>\n",
       "      <th>lat</th>\n",
       "      <th>lon</th>\n",
       "      <th>area_m2</th>\n",
       "      <th>price_usd</th>\n",
       "      <th>price_per_m2</th>\n",
       "    </tr>\n",
       "  </thead>\n",
       "  <tbody>\n",
       "    <tr>\n",
       "      <th>0</th>\n",
       "      <td>house</td>\n",
       "      <td>Estado de México</td>\n",
       "      <td>19.560181</td>\n",
       "      <td>-99.233528</td>\n",
       "      <td>150.0</td>\n",
       "      <td>67965.56</td>\n",
       "      <td>453.10</td>\n",
       "    </tr>\n",
       "    <tr>\n",
       "      <th>1</th>\n",
       "      <td>house</td>\n",
       "      <td>Nuevo León</td>\n",
       "      <td>25.688436</td>\n",
       "      <td>-100.198807</td>\n",
       "      <td>186.0</td>\n",
       "      <td>63223.78</td>\n",
       "      <td>339.91</td>\n",
       "    </tr>\n",
       "    <tr>\n",
       "      <th>2</th>\n",
       "      <td>apartment</td>\n",
       "      <td>Guerrero</td>\n",
       "      <td>16.767704</td>\n",
       "      <td>-99.764383</td>\n",
       "      <td>82.0</td>\n",
       "      <td>84298.37</td>\n",
       "      <td>1028.03</td>\n",
       "    </tr>\n",
       "    <tr>\n",
       "      <th>3</th>\n",
       "      <td>apartment</td>\n",
       "      <td>Guerrero</td>\n",
       "      <td>16.829782</td>\n",
       "      <td>-99.911012</td>\n",
       "      <td>150.0</td>\n",
       "      <td>94308.80</td>\n",
       "      <td>628.73</td>\n",
       "    </tr>\n",
       "    <tr>\n",
       "      <th>4</th>\n",
       "      <td>house</td>\n",
       "      <td>Yucatán</td>\n",
       "      <td>21.052583</td>\n",
       "      <td>-89.538639</td>\n",
       "      <td>205.0</td>\n",
       "      <td>105191.37</td>\n",
       "      <td>513.13</td>\n",
       "    </tr>\n",
       "  </tbody>\n",
       "</table>\n",
       "</div>"
      ],
      "text/plain": [
       "  property_type             state        lat         lon  area_m2  price_usd  \\\n",
       "0         house  Estado de México  19.560181  -99.233528    150.0   67965.56   \n",
       "1         house        Nuevo León  25.688436 -100.198807    186.0   63223.78   \n",
       "2     apartment          Guerrero  16.767704  -99.764383     82.0   84298.37   \n",
       "3     apartment          Guerrero  16.829782  -99.911012    150.0   94308.80   \n",
       "4         house           Yucatán  21.052583  -89.538639    205.0  105191.37   \n",
       "\n",
       "   price_per_m2  \n",
       "0        453.10  \n",
       "1        339.91  \n",
       "2       1028.03  \n",
       "3        628.73  \n",
       "4        513.13  "
      ]
     },
     "execution_count": 11,
     "metadata": {},
     "output_type": "execute_result"
    }
   ],
   "source": [
    "df.head()"
   ]
  },
  {
   "cell_type": "markdown",
   "id": "93e2cd90",
   "metadata": {},
   "source": [
    "Let's redo our bar chart from above, but this time with the mean of `\"price_per_m2\"` for each state."
   ]
  },
  {
   "cell_type": "code",
   "execution_count": 12,
   "id": "f846fb59",
   "metadata": {},
   "outputs": [
    {
     "data": {
      "text/html": [
       "\n",
       "        <iframe\n",
       "            width=\"600\"\n",
       "            height=\"300\"\n",
       "            src=\"https://player.vimeo.com/video/656377991?h=c7319b0458\"\n",
       "            frameborder=\"0\"\n",
       "            allowfullscreen\n",
       "            \n",
       "        ></iframe>\n",
       "        "
      ],
      "text/plain": [
       "<IPython.lib.display.VimeoVideo at 0x1e3c2482cd0>"
      ]
     },
     "execution_count": 12,
     "metadata": {},
     "output_type": "execute_result"
    }
   ],
   "source": [
    "VimeoVideo(\"656377991\", h=\"c7319b0458\", width=600)"
   ]
  },
  {
   "cell_type": "markdown",
   "id": "d9ece618",
   "metadata": {},
   "source": [
    "**Task 1.4.5:** First, use the [`groupby`](https://pandas.pydata.org/pandas-docs/stable/reference/api/pandas.DataFrame.groupby.html) method to create a Series where the index contains each state in the dataset and the values correspond to the mean house price per m<sup>2</sup> for that state. Then use the Series to create a bar chart of your results. Make sure the states are sorted from the highest to lowest mean, that you label the x-axis as `\"State\"` and the y-axis as `\"Mean Price per M^2[USD]\"`, and give the chart the title `\"Mean House Price per M^2 by State\"`. \n",
    "\n",
    "- [What's a Series?](../%40textbook/05-pandas-summary-statistics.ipynb#Series)\n",
    "- [Aggregate data using the `groupby` method in pandas.](../%40textbook/04-pandas-advanced.ipynb#Series-and-Groupby)\n",
    "- [Create a bar chart using pandas.](../%40textbook/06-visualization-matplotlib.ipynb#Bar-Charts) "
   ]
  },
  {
   "cell_type": "code",
   "execution_count": 13,
   "id": "c3911e5d",
   "metadata": {},
   "outputs": [
    {
     "data": {
      "image/png": "[encoded data removed]",
      "text/plain": [
       "<Figure size 648x432 with 1 Axes>"
      ]
     },
     "metadata": {
      "needs_background": "light"
     },
     "output_type": "display_data"
    }
   ],
   "source": [
    "(\n",
    "    df.groupby(\"state\")[\"price_per_m2\"]\n",
    "      .mean()\n",
    "      .sort_values(ascending=False)\n",
    "      .plot(\n",
    "          kind=\"bar\",\n",
    "          xlabel=\"State\",\n",
    "          ylabel=\"Mean Price per M^2[USD]\",\n",
    "          title=\"Mean House Price per M^2 by State\",\n",
    "          figsize=(9, 6)\n",
    "      )\n",
    ");"
   ]
  },
  {
   "cell_type": "markdown",
   "id": "3c83b822",
   "metadata": {},
   "source": [
    "Now we see that the capital Mexico City (*Distrito Federal*) is by far the most expensive market.  Additionally, many of the top 10 states by GDP are also in the top 10 most expensive real estate markets. So it looks like this bar chart is a more accurate reflection of state real estate markets."
   ]
  },
  {
   "cell_type": "markdown",
   "id": "74dacef9",
   "metadata": {},
   "source": [
    "# Research Question 2"
   ]
  },
  {
   "cell_type": "markdown",
   "id": "82b07840",
   "metadata": {},
   "source": [
    "**Is there a relationship between home size and price?**"
   ]
  },
  {
   "cell_type": "markdown",
   "id": "abfdca88",
   "metadata": {},
   "source": [
    "From our previous question, we know that the location of a home affects its price (especially if it's in Mexico City), but what about home size? Does the size of a house influence price?\n",
    "\n",
    "A scatter plot can be helpful when evaluating the relationship between two columns because it lets you see if two variables are correlated — in this case, if an increase in home size is associated with an increase in price."
   ]
  },
  {
   "cell_type": "code",
   "execution_count": 14,
   "id": "7e17b6df",
   "metadata": {},
   "outputs": [
    {
     "data": {
      "text/html": [
       "\n",
       "        <iframe\n",
       "            width=\"600\"\n",
       "            height=\"300\"\n",
       "            src=\"https://player.vimeo.com/video/656377758?h=62546c7b86\"\n",
       "            frameborder=\"0\"\n",
       "            allowfullscreen\n",
       "            \n",
       "        ></iframe>\n",
       "        "
      ],
      "text/plain": [
       "<IPython.lib.display.VimeoVideo at 0x1e3c1bd5fd0>"
      ]
     },
     "execution_count": 14,
     "metadata": {},
     "output_type": "execute_result"
    }
   ],
   "source": [
    "VimeoVideo(\"656377758\", h=\"62546c7b86\", width=600)"
   ]
  },
  {
   "cell_type": "markdown",
   "id": "4288a705",
   "metadata": {},
   "source": [
    "**Task 1.4.6:** Create a scatter plot from `df` that represents price as a function of size. In other words, `\"area_m2\"` should be on the x-axis, and `\"price_usd\"` should be on the y-axis. Be sure to use expressive axis labels (`\"Area [sq meters]\"` and `\"Price [USD]\"`, respectively).\n",
    "\n",
    "- [What's a scatter plot?](../%40textbook/06-visualization-matplotlib.ipynb#Scatter-Plots)\n",
    "- [What's correlation?](../%40textbook/05-pandas-summary-statistics.ipynb#Correlations)\n",
    "- [Create a scatter plot using Matplotlib.](../%40textbook/06-visualization-matplotlib.ipynb#Scatter-Plots)"
   ]
  },
  {
   "cell_type": "code",
   "execution_count": null,
   "id": "ef83905e",
   "metadata": {},
   "outputs": [],
   "source": []
  }
 ],
 "metadata": {
  "kernelspec": {
   "display_name": "Python 3 (ipykernel)",
   "language": "python",
   "name": "python3"
  },
  "language_info": {
   "codemirror_mode": {
    "name": "ipython",
    "version": 3
   },
   "file_extension": ".py",
   "mimetype": "text/x-python",
   "name": "python",
   "nbconvert_exporter": "python",
   "pygments_lexer": "ipython3",
   "version": "3.9.12"
  }
 },
 "nbformat": 4,
 "nbformat_minor": 5
}
