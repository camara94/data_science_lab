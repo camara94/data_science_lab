{
 "cells": [
  {
   "cell_type": "markdown",
   "id": "c81f5690",
   "metadata": {},
   "source": [
    "<font size=\"+3\"><strong>Location or Size: What Influences House Prices in Mexico?</strong></font>"
   ]
  },
  {
   "cell_type": "code",
   "execution_count": 1,
   "id": "409932c6",
   "metadata": {},
   "outputs": [],
   "source": [
    "import matplotlib.pyplot as plt\n",
    "import pandas as pd\n",
    "from IPython.display import VimeoVideo"
   ]
  },
  {
   "cell_type": "markdown",
   "id": "fe5b94d4",
   "metadata": {},
   "source": [
    "You've wrangled the data, you've gained an understanding of its basic characteristics in your EDA, and now it's time to ask some research questions. "
   ]
  },
  {
   "cell_type": "markdown",
   "id": "bd1cda75",
   "metadata": {},
   "source": [
    "# Import Data"
   ]
  },
  {
   "cell_type": "markdown",
   "id": "4f93b3de",
   "metadata": {},
   "source": [
    "**Task 1.4.1:** Read the CSV file that you created in the last notebook (`\"../small-data/mexico-real-estate-clean.csv\"`) into a DataFrame named `df`. Be sure to check that all your columns are the correct data type before you go to the next task.\n",
    "\n",
    "- [What's a DataFrame?](../%40textbook/03-pandas-getting-started.ipynb#Working-with-DataFrames)\n",
    "- [What's a CSV file?](../%40textbook/03-pandas-getting-started.ipynb#CSV-Files)\n",
    "- [Read a CSV file into a DataFrame using pandas.](../%40textbook/03-pandas-getting-started.ipynb#Working-with-DataFrames)"
   ]
  },
  {
   "cell_type": "code",
   "execution_count": 3,
   "id": "770257ae",
   "metadata": {},
   "outputs": [],
   "source": [
    "df = pd.read_csv(\"../data/mexico-real-estate-clean.csv\")"
   ]
  },
  {
   "cell_type": "markdown",
   "id": "ed06e93c",
   "metadata": {},
   "source": [
    "# Research Question 1"
   ]
  },
  {
   "cell_type": "markdown",
   "id": "5c56b990",
   "metadata": {},
   "source": [
    "**Which state has the most expensive real estate market?**"
   ]
  },
  {
   "cell_type": "markdown",
   "id": "2999cd80",
   "metadata": {},
   "source": [
    "Do housing prices vary by state? If so, which are the most expensive states for purchasing a home? During our exploratory data analysis, we used descriptive statistics like mean and median to get an idea of the \"typical\" house price in Mexico. Now, we need to break that calculation down by state and visualize the results. \n",
    "\n",
    "We know in which state each house is located thanks to the `\"state\"` column. The next step is to divide our dataset into groups (one per state) and calculate the mean house price for each group. "
   ]
  },
  {
   "cell_type": "code",
   "execution_count": 4,
   "id": "4dedba9e",
   "metadata": {},
   "outputs": [
    {
     "data": {
      "text/html": [
       "\n",
       "        <iframe\n",
       "            width=\"600\"\n",
       "            height=\"300\"\n",
       "            src=\"https://player.vimeo.com/video/656378731?h=8daa35d1e8\"\n",
       "            frameborder=\"0\"\n",
       "            allowfullscreen\n",
       "            \n",
       "        ></iframe>\n",
       "        "
      ],
      "text/plain": [
       "<IPython.lib.display.VimeoVideo at 0x1e3c1be6400>"
      ]
     },
     "execution_count": 4,
     "metadata": {},
     "output_type": "execute_result"
    }
   ],
   "source": [
    "VimeoVideo(\"656378731\", h=\"8daa35d1e8\", width=600)"
   ]
  },
  {
   "cell_type": "code",
   "execution_count": null,
   "id": "4f2dccbb",
   "metadata": {},
   "outputs": [],
   "source": []
  }
 ],
 "metadata": {
  "kernelspec": {
   "display_name": "Python 3 (ipykernel)",
   "language": "python",
   "name": "python3"
  },
  "language_info": {
   "codemirror_mode": {
    "name": "ipython",
    "version": 3
   },
   "file_extension": ".py",
   "mimetype": "text/x-python",
   "name": "python",
   "nbconvert_exporter": "python",
   "pygments_lexer": "ipython3",
   "version": "3.9.12"
  }
 },
 "nbformat": 4,
 "nbformat_minor": 5
}
