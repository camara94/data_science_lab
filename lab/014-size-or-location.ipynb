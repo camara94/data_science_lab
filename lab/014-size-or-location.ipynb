{
 "cells": [
  {
   "cell_type": "markdown",
   "id": "f244fcc5",
   "metadata": {},
   "source": [
    "<font size=\"+3\"><strong>Location or Size: What Influences House Prices in Mexico?</strong></font>"
   ]
  },
  {
   "cell_type": "code",
   "execution_count": 1,
   "id": "afaf554a",
   "metadata": {},
   "outputs": [],
   "source": [
    "import matplotlib.pyplot as plt\n",
    "import pandas as pd\n",
    "from IPython.display import VimeoVideo"
   ]
  },
  {
   "cell_type": "markdown",
   "id": "eeb98128",
   "metadata": {},
   "source": [
    "You've wrangled the data, you've gained an understanding of its basic characteristics in your EDA, and now it's time to ask some research questions. "
   ]
  },
  {
   "cell_type": "markdown",
   "id": "b0a29bf0",
   "metadata": {},
   "source": [
    "# Import Data"
   ]
  },
  {
   "cell_type": "markdown",
   "id": "8da02828",
   "metadata": {},
   "source": [
    "**Task 1.4.1:** Read the CSV file that you created in the last notebook (`\"../small-data/mexico-real-estate-clean.csv\"`) into a DataFrame named `df`. Be sure to check that all your columns are the correct data type before you go to the next task.\n",
    "\n",
    "- [What's a DataFrame?](../%40textbook/03-pandas-getting-started.ipynb#Working-with-DataFrames)\n",
    "- [What's a CSV file?](../%40textbook/03-pandas-getting-started.ipynb#CSV-Files)\n",
    "- [Read a CSV file into a DataFrame using pandas.](../%40textbook/03-pandas-getting-started.ipynb#Working-with-DataFrames)"
   ]
  },
  {
   "cell_type": "code",
   "execution_count": 3,
   "id": "72ad3229",
   "metadata": {},
   "outputs": [],
   "source": [
    "df = pd.read_csv(\"../data/mexico-real-estate-clean.csv\")"
   ]
  },
  {
   "cell_type": "markdown",
   "id": "70d13538",
   "metadata": {},
   "source": [
    "# Research Question 1"
   ]
  },
  {
   "cell_type": "markdown",
   "id": "e87e0f86",
   "metadata": {},
   "source": [
    "**Which state has the most expensive real estate market?**"
   ]
  },
  {
   "cell_type": "markdown",
   "id": "7d372c8a",
   "metadata": {},
   "source": [
    "Do housing prices vary by state? If so, which are the most expensive states for purchasing a home? During our exploratory data analysis, we used descriptive statistics like mean and median to get an idea of the \"typical\" house price in Mexico. Now, we need to break that calculation down by state and visualize the results. \n",
    "\n",
    "We know in which state each house is located thanks to the `\"state\"` column. The next step is to divide our dataset into groups (one per state) and calculate the mean house price for each group. "
   ]
  },
  {
   "cell_type": "code",
   "execution_count": null,
   "id": "64de6bb8",
   "metadata": {},
   "outputs": [],
   "source": []
  }
 ],
 "metadata": {
  "kernelspec": {
   "display_name": "Python 3 (ipykernel)",
   "language": "python",
   "name": "python3"
  },
  "language_info": {
   "codemirror_mode": {
    "name": "ipython",
    "version": 3
   },
   "file_extension": ".py",
   "mimetype": "text/x-python",
   "name": "python",
   "nbconvert_exporter": "python",
   "pygments_lexer": "ipython3",
   "version": "3.9.12"
  }
 },
 "nbformat": 4,
 "nbformat_minor": 5
}
